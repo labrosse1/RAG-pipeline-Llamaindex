{
  "nbformat": 4,
  "nbformat_minor": 0,
  "metadata": {
    "colab": {
      "provenance": [],
      "authorship_tag": "ABX9TyNeoqMgAZw7M7YIfn2OcKLp",
      "include_colab_link": true
    },
    "kernelspec": {
      "name": "python3",
      "display_name": "Python 3"
    },
    "language_info": {
      "name": "python"
    }
  },
  "cells": [
    {
      "cell_type": "markdown",
      "metadata": {
        "id": "view-in-github",
        "colab_type": "text"
      },
      "source": [
        "<a href=\"https://colab.research.google.com/github/labrosse1/RAG-pipeline-Llamaindex/blob/Documents-ingestion/RAG_pipeline_Llamaindex.ipynb\" target=\"_parent\"><img src=\"https://colab.research.google.com/assets/colab-badge.svg\" alt=\"Open In Colab\"/></a>"
      ]
    },
    {
      "cell_type": "code",
      "execution_count": null,
      "metadata": {
        "id": "yVSwZKOY6V3W"
      },
      "outputs": [],
      "source": [
        "from google.colab import drive\n",
        "drive.mount('/content/drive/')\n",
        "\n",
        "!pip install python-dotenv\n",
        "\n",
        "import os\n",
        "from dotenv import load_dotenv\n",
        "\n",
        "# Charger le fichier .env\n",
        "load_dotenv('/content/drive/MyDrive/RAG-pipeline-Llamaindex/.env')\n",
        "\n",
        "# Récupérer les clés\n",
        "openai_key = os.environ.get('OPENAI_API_KEY')\n",
        "scraping_key = os.environ.get('SCRAPING_BEE')"
      ]
    },
    {
      "cell_type": "code",
      "source": [
        "!pip install scrapingbee"
      ],
      "metadata": {
        "id": "eqiP1spyNwX9"
      },
      "execution_count": null,
      "outputs": []
    },
    {
      "cell_type": "code",
      "source": [
        "from scrapingbee import ScrapingBeeClient\n",
        "\n",
        "client = ScrapingBeeClient(api_key=scraping_key)\n",
        "\n",
        "\n",
        "urls = [\"https://docs.llamaindex.ai/en/stable/understanding/rag/\",\n",
        "        \"https://docs.llamaindex.ai/en/stable/understanding/loading/loading/\",\n",
        "        \"https://docs.llamaindex.ai/en/stable/understanding/indexing/indexing/\",\n",
        "        \"https://docs.llamaindex.ai/en/stable/understanding/storing/storing/\",\n",
        "        \"https://docs.llamaindex.ai/en/stable/understanding/querying/querying/\",\n",
        "        ];\n",
        "\n",
        "\n",
        "for i, url in enumerate(urls, start=1):\n",
        "    response = client.get(url)\n",
        "    filename = f\"scraped_page{i}.html\"\n",
        "\n",
        "    with open(filename, \"w\", encoding=\"utf-8\") as f:\n",
        "      f.write(response.text)\n",
        "      print(f\" {url} sauvegardée dans {filename}\")\n",
        "\n",
        "print('Response HTTP Status Code: ', response.status_code)"
      ],
      "metadata": {
        "id": "wdLWRVSeN6Hx"
      },
      "execution_count": null,
      "outputs": []
    },
    {
      "cell_type": "code",
      "source": [
        "!pip install beautifulsoup4"
      ],
      "metadata": {
        "id": "yhILPv5E5r0L"
      },
      "execution_count": null,
      "outputs": []
    },
    {
      "cell_type": "code",
      "source": [
        "from bs4 import BeautifulSoup\n",
        "\n",
        "all_text = []\n",
        "\n",
        "# Parcours des fichiers HTML\n",
        "for file in os.listdir(\".\"):\n",
        "    if file.startswith(\"scraped_page\") and file.endswith(\".html\"):\n",
        "        print(f\"Traitement de {file}...\")\n",
        "\n",
        "        with open(file, \"r\", encoding=\"utf-8\") as f:\n",
        "            soup = BeautifulSoup(f, \"html.parser\")\n",
        "\n",
        "        # Supprimer scripts et styles\n",
        "        for tag in soup([\"script\", \"style\", \"noscript\"]):\n",
        "            tag.extract()\n",
        "\n",
        "        # Construire un texte structuré pour cette page\n",
        "        output_lines = []\n",
        "        for element in soup.find_all([\"h1\", \"h2\", \"h3\", \"p\", \"li\"]):\n",
        "            text = element.get_text(strip=True)\n",
        "            if not text:\n",
        "                continue\n",
        "            if element.name == \"h1\":\n",
        "                output_lines.append(f\"# {text}\\n\")\n",
        "            elif element.name == \"h2\":\n",
        "                output_lines.append(f\"## {text}\\n\")\n",
        "            elif element.name == \"h3\":\n",
        "                output_lines.append(f\"### {text}\\n\")\n",
        "            elif element.name == \"li\":\n",
        "                output_lines.append(f\"- {text}\")\n",
        "            else:\n",
        "                output_lines.append(text + \"\\n\")\n",
        "\n",
        "        # Ajouter à la liste globale\n",
        "        all_text.append(\"\\n\".join(output_lines))\n",
        "\n",
        "# Joindre tout le texte en un seul bloc\n",
        "final_text = \"\\n\\n\".join(all_text)\n",
        "\n",
        "# Sauvegarde dans un fichier unique\n",
        "with open(\"scraped_all.md\", \"w\", encoding=\"utf-8\") as f:\n",
        "    f.write(final_text)"
      ],
      "metadata": {
        "id": "UrNetn4L8VAF"
      },
      "execution_count": null,
      "outputs": []
    }
  ]
}