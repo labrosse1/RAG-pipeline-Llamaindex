{
  "nbformat": 4,
  "nbformat_minor": 0,
  "metadata": {
    "colab": {
      "provenance": [],
      "authorship_tag": "ABX9TyOHJKdUbaGPHJ2Fw2aAPD+b",
      "include_colab_link": true
    },
    "kernelspec": {
      "name": "python3",
      "display_name": "Python 3"
    },
    "language_info": {
      "name": "python"
    }
  },
  "cells": [
    {
      "cell_type": "markdown",
      "metadata": {
        "id": "view-in-github",
        "colab_type": "text"
      },
      "source": [
        "<a href=\"https://colab.research.google.com/github/labrosse1/RAG-pipeline-Llamaindex/blob/Document-retrieval/RAG_pipeline_Llamaindex.ipynb\" target=\"_parent\"><img src=\"https://colab.research.google.com/assets/colab-badge.svg\" alt=\"Open In Colab\"/></a>"
      ]
    },
    {
      "cell_type": "code",
      "execution_count": null,
      "metadata": {
        "id": "yVSwZKOY6V3W"
      },
      "outputs": [],
      "source": [
        "from google.colab import drive\n",
        "drive.mount('/content/drive/')\n",
        "\n",
        "!pip install python-dotenv\n",
        "\n",
        "import os\n",
        "from dotenv import load_dotenv\n",
        "\n",
        "# Charger le fichier .env\n",
        "load_dotenv('/content/drive/MyDrive/RAG-pipeline-Llamaindex/.env')\n",
        "\n",
        "# Récupérer les clés\n",
        "openai_key = os.environ.get('OPENAI_API_KEY')\n",
        "scraping_key = os.environ.get('SCRAPING_BEE')"
      ]
    },
    {
      "cell_type": "code",
      "source": [
        "!pip install scrapingbee"
      ],
      "metadata": {
        "id": "eqiP1spyNwX9"
      },
      "execution_count": null,
      "outputs": []
    },
    {
      "cell_type": "code",
      "source": [
        "from scrapingbee import ScrapingBeeClient\n",
        "\n",
        "client = ScrapingBeeClient(api_key=scraping_key)\n",
        "\n",
        "\n",
        "urls = [\"https://docs.llamaindex.ai/en/stable/understanding/rag/\",\n",
        "        \"https://docs.llamaindex.ai/en/stable/understanding/loading/loading/\",\n",
        "        \"https://docs.llamaindex.ai/en/stable/understanding/indexing/indexing/\",\n",
        "        \"https://docs.llamaindex.ai/en/stable/understanding/storing/storing/\",\n",
        "        \"https://docs.llamaindex.ai/en/stable/understanding/querying/querying/\",\n",
        "        ];\n",
        "\n",
        "\n",
        "for i, url in enumerate(urls, start=1):\n",
        "    response = client.get(url)\n",
        "    filename = f\"scraped_page{i}.html\"\n",
        "\n",
        "    with open(filename, \"w\", encoding=\"utf-8\") as f:\n",
        "      f.write(response.text)\n",
        "\n",
        "\n",
        "      print(f\" {url} sauvegardée dans {filename}\")\n",
        "\n",
        "print('Response HTTP Status Code: ', response.status_code)"
      ],
      "metadata": {
        "id": "wdLWRVSeN6Hx"
      },
      "execution_count": null,
      "outputs": []
    },
    {
      "cell_type": "code",
      "source": [
        "!pip install markdownify\n",
        "\n",
        "import os\n",
        "from markdownify import markdownify as md\n",
        "\n",
        "# Liste pour stocker tous les contenus markdown\n",
        "all_markdown = []\n",
        "\n",
        "# Parcourir tous les fichiers HTML du dossier\n",
        "for file in sorted(os.listdir(\".\")):\n",
        "    if file.endswith(\".html\") and file.startswith(\"scraped_page\"):\n",
        "        print(f\"Conversion de {file} en Markdown...\")\n",
        "\n",
        "        # Lire le HTML\n",
        "        with open(file, \"r\", encoding=\"utf-8\") as f:\n",
        "            html_content = f.read()\n",
        "\n",
        "        # Convertir en Markdown\n",
        "        markdown_text = md(html_content)\n",
        "\n",
        "        # Ajouter un titre séparateur basé sur le nom du fichier\n",
        "        all_markdown.append(f\"# Contenu de {file}\\n\\n{markdown_text}\")\n",
        "\n",
        "# Joindre tous les fichiers avec deux sauts de ligne\n",
        "final_markdown = \"\\n\\n---\\n\\n\".join(all_markdown)\n",
        "\n",
        "# Sauvegarder dans un fichier unique\n",
        "with open(\"scraped_all.md\", \"w\", encoding=\"utf-8\") as f:\n",
        "    f.write(final_markdown)"
      ],
      "metadata": {
        "collapsed": true,
        "id": "ZSiNia9PuR4G"
      },
      "execution_count": null,
      "outputs": []
    },
    {
      "cell_type": "code",
      "source": [
        "!pip install llama-index"
      ],
      "metadata": {
        "collapsed": true,
        "id": "w1lFHLiGxIet"
      },
      "execution_count": null,
      "outputs": []
    },
    {
      "cell_type": "code",
      "source": [
        "from llama_index.core import SimpleDirectoryReader\n",
        "\n",
        "documents = SimpleDirectoryReader(\"./scraped\").load_data()"
      ],
      "metadata": {
        "id": "MpwekHxOw9oK"
      },
      "execution_count": null,
      "outputs": []
    },
    {
      "cell_type": "code",
      "source": [
        "!pip install llama-index-vector-stores-chroma\n"
      ],
      "metadata": {
        "id": "ctZFGYXJCacG"
      },
      "execution_count": null,
      "outputs": []
    },
    {
      "cell_type": "code",
      "source": [
        "!pip install chromadb"
      ],
      "metadata": {
        "id": "uzp19nJdB6h-"
      },
      "execution_count": null,
      "outputs": []
    },
    {
      "cell_type": "code",
      "source": [
        "import chromadb\n",
        "from llama_index.core import VectorStoreIndex, SimpleDirectoryReader\n",
        "from llama_index.vector_stores.chroma import ChromaVectorStore\n",
        "from llama_index.core import StorageContext\n",
        "from llama_index.embeddings.openai import OpenAIEmbedding\n",
        "from llama_index.core import Settings\n",
        "\n",
        "Settings.embed_model = OpenAIEmbedding(model=\"text-embedding-3-large\")\n",
        "\n",
        "\n",
        "from llama_index.core.node_parser import SentenceSplitter\n",
        "\n",
        "text_splitter = SentenceSplitter(chunk_size=512, chunk_overlap=10)\n",
        "\n",
        "# global\n",
        "from llama_index.core import Settings\n",
        "\n",
        "Settings.text_splitter = text_splitter\n",
        "Settings.embed_model = OpenAIEmbedding(model=\"text-embedding-3-large\")\n",
        "\n",
        "\n",
        "# initialize client, setting path to save data\n",
        "db = chromadb.PersistentClient(path=\"./chroma_db\")\n",
        "\n",
        "# create collection\n",
        "chroma_collection = db.get_or_create_collection(\"quickstart\")\n",
        "\n",
        "# assign chroma as the vector_store to the context\n",
        "vector_store = ChromaVectorStore(chroma_collection=chroma_collection)\n",
        "storage_context = StorageContext.from_defaults(vector_store=vector_store)\n",
        "\n",
        "# per-index\n",
        "index = VectorStoreIndex.from_documents(\n",
        "    documents, transformations=[text_splitter],show_progress=True, storage_context=storage_context\n",
        ")"
      ],
      "metadata": {
        "id": "kcZdDo5nyVEv"
      },
      "execution_count": null,
      "outputs": []
    },
    {
      "cell_type": "code",
      "source": [
        "query_engine = index.as_query_engine()\n",
        "response = query_engine.query(\n",
        "    \"How to use the query engine\"\n",
        ")\n",
        "print(response)\n"
      ],
      "metadata": {
        "id": "yy8_W6ZX_H7o"
      },
      "execution_count": null,
      "outputs": []
    }
  ]
}