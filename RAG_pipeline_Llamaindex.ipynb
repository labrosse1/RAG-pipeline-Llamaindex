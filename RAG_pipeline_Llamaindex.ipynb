{
  "nbformat": 4,
  "nbformat_minor": 0,
  "metadata": {
    "colab": {
      "provenance": [],
      "authorship_tag": "ABX9TyNpHvIMw/spd1HEH2ShVoHl",
      "include_colab_link": true
    },
    "kernelspec": {
      "name": "python3",
      "display_name": "Python 3"
    },
    "language_info": {
      "name": "python"
    }
  },
  "cells": [
    {
      "cell_type": "markdown",
      "metadata": {
        "id": "view-in-github",
        "colab_type": "text"
      },
      "source": [
        "<a href=\"https://colab.research.google.com/github/labrosse1/RAG-pipepline-Llamaindex/blob/main/RAG_pipeline_Llamaindex.ipynb\" target=\"_parent\"><img src=\"https://colab.research.google.com/assets/colab-badge.svg\" alt=\"Open In Colab\"/></a>"
      ]
    },
    {
      "cell_type": "code",
      "execution_count": 7,
      "metadata": {
        "colab": {
          "base_uri": "https://localhost:8080/"
        },
        "id": "yVSwZKOY6V3W",
        "outputId": "50dfe7da-2fc8-4e19-d0df-c9459f851e98"
      },
      "outputs": [
        {
          "output_type": "stream",
          "name": "stdout",
          "text": [
            "Mounted at /content/drive/\n"
          ]
        }
      ],
      "source": [
        "from google.colab import drive\n",
        "\n",
        "drive.mount('/content/drive/')"
      ]
    },
    {
      "cell_type": "code",
      "source": [
        "# Install python-dotenv\n",
        "!pip install python-dotenv\n",
        "\n",
        "import os\n",
        "\n",
        "import dotenv\n",
        "from google.colab import drive\n"
      ],
      "metadata": {
        "colab": {
          "base_uri": "https://localhost:8080/"
        },
        "id": "8UtsCwwE8ODL",
        "outputId": "ce2e52bf-4edb-4e6c-c19e-512794d92781"
      },
      "execution_count": 8,
      "outputs": [
        {
          "output_type": "stream",
          "name": "stdout",
          "text": [
            "Collecting python-dotenv\n",
            "  Downloading python_dotenv-1.1.1-py3-none-any.whl.metadata (24 kB)\n",
            "Downloading python_dotenv-1.1.1-py3-none-any.whl (20 kB)\n",
            "Installing collected packages: python-dotenv\n",
            "Successfully installed python-dotenv-1.1.1\n"
          ]
        }
      ]
    },
    {
      "cell_type": "code",
      "source": [
        "dotenv.load_dotenv('/content/drive/MyDrive/RAG-pipeline-Llamaindex')\n",
        "\n",
        "os.environ.get('OPENAI_API_KEY')"
      ],
      "metadata": {
        "id": "9iJaQXWf8v8Z"
      },
      "execution_count": 9,
      "outputs": []
    }
  ]
}